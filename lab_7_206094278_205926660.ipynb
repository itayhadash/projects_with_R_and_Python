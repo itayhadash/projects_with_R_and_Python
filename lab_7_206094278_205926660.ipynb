{
 "cells": [
  {
   "cell_type": "markdown",
   "metadata": {},
   "source": [
    "# *Lab 7: Estimating changes between two elections*\n",
    "### **ID1:206094278,ID2:205926660** \n"
   ]
  },
  {
   "cell_type": "code",
   "execution_count": 1,
   "metadata": {},
   "outputs": [],
   "source": [
    "import pandas as pd\n",
    "import numpy as np\n",
    "import os\n",
    "import io\n",
    "from matplotlib import pyplot as plt\n",
    "import statsmodels.api as sm\n",
    "import sklearn\n",
    "from sklearn.decomposition import PCA\n",
    "\n",
    "#pd.set_option('display.max_rows', None)"
   ]
  },
  {
   "cell_type": "code",
   "execution_count": 2,
   "metadata": {},
   "outputs": [],
   "source": [
    "\n",
    "df_ballots_2020 =pd.read_csv(\"votes per ballot 2020.csv\", encoding = 'iso-8859-8', index_col='שם ישוב')\n",
    "dict_party = {'מחל':'הליכוד','פה':'כחול לבן','ודעם':'הרשימה המשותפת','שס':'שס','ג':'יהדות התורה',\n",
    "              'אמת':'העבודה גשר מרצ','ל':'ישראל ביתנו','טב':'ימינה'}\n",
    "df_clean = df_ballots_2020.loc[:,[\"מחל\",\"פה\",\"ודעם\",\"שס\",\"ג\",\"אמת\",\"ל\",\"טב\"]]\n",
    "df_clean=df_clean.drop(\"מעטפות חיצוניות\")"
   ]
  },
  {
   "cell_type": "markdown",
   "metadata": {},
   "source": [
    "#### Question 1"
   ]
  },
  {
   "cell_type": "code",
   "execution_count": 3,
   "metadata": {},
   "outputs": [
    {
     "name": "stdout",
     "output_type": "stream",
     "text": [
      "bias is\n"
     ]
    },
    {
     "data": {
      "text/plain": [
       "None"
      ]
     },
     "metadata": {},
     "output_type": "display_data"
    },
    {
     "data": {
      "text/plain": [
       "מחל     0.003\n",
       "פה     -0.000\n",
       "ודעם   -0.015\n",
       "שס      0.002\n",
       "ג       0.006\n",
       "אמת     0.002\n",
       "ל       0.001\n",
       "טב      0.003\n",
       "dtype: float64"
      ]
     },
     "metadata": {},
     "output_type": "display_data"
    },
    {
     "name": "stdout",
     "output_type": "stream",
     "text": [
      "variance is\n"
     ]
    },
    {
     "data": {
      "text/plain": [
       "None"
      ]
     },
     "metadata": {},
     "output_type": "display_data"
    },
    {
     "data": {
      "text/plain": [
       "מחל     0.005\n",
       "פה      0.006\n",
       "ודעם    0.011\n",
       "שס      0.001\n",
       "ג       0.004\n",
       "אמת     0.001\n",
       "ל       0.000\n",
       "טב      0.001\n",
       "dtype: float64"
      ]
     },
     "metadata": {},
     "output_type": "display_data"
    },
    {
     "name": "stdout",
     "output_type": "stream",
     "text": [
      "MSE is\n"
     ]
    },
    {
     "data": {
      "text/plain": [
       "None"
      ]
     },
     "metadata": {},
     "output_type": "display_data"
    },
    {
     "data": {
      "text/plain": [
       "מחל     0.005\n",
       "פה      0.006\n",
       "ודעם    0.011\n",
       "שס      0.001\n",
       "ג       0.004\n",
       "אמת     0.001\n",
       "ל       0.000\n",
       "טב      0.001\n",
       "dtype: float64"
      ]
     },
     "metadata": {},
     "output_type": "display_data"
    }
   ],
   "source": [
    "# a function that does a random sample for ballots\n",
    "def random_pic(b,df,times):\n",
    "    pic=[]\n",
    "    total =[]\n",
    "    for i in range(0,times):\n",
    "        df_ran = df.sample(b)\n",
    "        df_rans = df_ran.sum().div(df_ran.sum().sum())\n",
    "        total.append(df_ran.sum().sum())\n",
    "        pic.append(df_rans)\n",
    "\n",
    "    return([pic,total])\n",
    "\n",
    "b=10\n",
    "times=100\n",
    "p_hats = random_pic(b,df_clean,times)\n",
    "tot = p_hats[1]\n",
    "p_hats = pd.DataFrame(p_hats[0])\n",
    "# the actual results of the eletion\n",
    "p=df_clean.sum().div(df_clean.sum().sum())\n",
    "\n",
    "#compute bias\n",
    "display(print(\"bias is\"),round(p_hats.mean()-p,3))\n",
    "\n",
    "#compute variance\n",
    "display(print(\"variance is\"),round(p_hats.var(),3))\n",
    "\n",
    "#compute MSE\n",
    "display(print(\"MSE is\"),round(p_hats.var() + np.power(p_hats.mean()-p,2),3))"
   ]
  },
  {
   "cell_type": "markdown",
   "metadata": {},
   "source": [
    "#### Answer:\n",
    "The bias of the estimator is close to zero in each party.<br>\n",
    "But it is importent to notice that some parties have bias that is closer to zero form the others because of the random sample. <br>"
   ]
  },
  {
   "cell_type": "code",
   "execution_count": 4,
   "metadata": {},
   "outputs": [
    {
     "data": {
      "image/png": "[encoded data removed]",
      "text/plain": [
       "<Figure size 432x288 with 1 Axes>"
      ]
     },
     "metadata": {
      "needs_background": "light"
     },
     "output_type": "display_data"
    }
   ],
   "source": [
    "# a plot of the estimator with the sd\n",
    "fig,ax=plt.subplots()\n",
    "width =0.3\n",
    "ax.bar(np.arange(8),p_hats.mean(),yerr=p_hats.std(),capsize=7,label = \"P_hat\")\n",
    "ax.legend()\n",
    "ax.set_ylabel(\"Voteing rate\")\n",
    "ax.set_xlabel(\"Party name\")\n",
    "ax.set_title(\"Plot of election estimator\")\n",
    "ax.set_xticks(np.arange(8))\n",
    "ax.set_xticklabels([dict_party[i][::-1] for i in p_hats.columns],rotation=90)\n",
    "plt.show()"
   ]
  },
  {
   "cell_type": "code",
   "execution_count": 5,
   "metadata": {},
   "outputs": [
    {
     "data": {
      "image/png": "[encoded data removed]",
      "text/plain": [
       "<Figure size 432x288 with 1 Axes>"
      ]
     },
     "metadata": {
      "needs_background": "light"
     },
     "output_type": "display_data"
    }
   ],
   "source": [
    "m = (sum(tot))/100\n",
    "# a plot of the mse of our estimator with the theoretical eror\n",
    "fig,ax=plt.subplots()\n",
    "width =0.3\n",
    "ax.bar(np.arange(8)-0.15,p_hats.var() +np.power(p_hats.mean()-p,2),width,label = \"P_hat MSE\")\n",
    "ax.bar(np.arange(8)+0.15,p*(1-p)/m,width,label=\"Theoretical error\")\n",
    "ax.legend()\n",
    "ax.set_ylabel(\"MSE\")\n",
    "ax.set_xlabel(\"Party name\")\n",
    "ax.set_title(\"Plot of election estimator MSE\")\n",
    "ax.set_xticks(np.arange(8))\n",
    "ax.set_xticklabels([dict_party[i][::-1] for i in p_hats.columns],rotation=90)\n",
    "plt.show()"
   ]
  },
  {
   "cell_type": "markdown",
   "metadata": {},
   "source": [
    "#### Question 2"
   ]
  },
  {
   "cell_type": "code",
   "execution_count": 9,
   "metadata": {},
   "outputs": [
    {
     "data": {
      "text/html": [
       "<div>\n",
       "<style scoped>\n",
       "    .dataframe tbody tr th:only-of-type {\n",
       "        vertical-align: middle;\n",
       "    }\n",
       "\n",
       "    .dataframe tbody tr th {\n",
       "        vertical-align: top;\n",
       "    }\n",
       "\n",
       "    .dataframe thead th {\n",
       "        text-align: right;\n",
       "    }\n",
       "</style>\n",
       "<table border=\"1\" class=\"dataframe\">\n",
       "  <thead>\n",
       "    <tr style=\"text-align: right;\">\n",
       "      <th></th>\n",
       "      <th>סמל ישוב</th>\n",
       "      <th>בזב</th>\n",
       "      <th>כשרים</th>\n",
       "      <th>אמת</th>\n",
       "      <th>ג</th>\n",
       "      <th>ודעם</th>\n",
       "      <th>טב</th>\n",
       "      <th>ל</th>\n",
       "      <th>מחל</th>\n",
       "      <th>פה</th>\n",
       "      <th>שס</th>\n",
       "      <th>שם ישוב</th>\n",
       "      <th>population</th>\n",
       "      <th>index_value</th>\n",
       "      <th>eco_level</th>\n",
       "    </tr>\n",
       "  </thead>\n",
       "  <tbody>\n",
       "    <tr>\n",
       "      <th>0</th>\n",
       "      <td>472</td>\n",
       "      <td>525</td>\n",
       "      <td>265</td>\n",
       "      <td>8</td>\n",
       "      <td>0</td>\n",
       "      <td>194</td>\n",
       "      <td>0</td>\n",
       "      <td>1</td>\n",
       "      <td>8</td>\n",
       "      <td>25</td>\n",
       "      <td>5</td>\n",
       "      <td>אבו גוש</td>\n",
       "      <td>6894.604873</td>\n",
       "      <td>-0.761583</td>\n",
       "      <td>3</td>\n",
       "    </tr>\n",
       "    <tr>\n",
       "      <th>1</th>\n",
       "      <td>472</td>\n",
       "      <td>686</td>\n",
       "      <td>357</td>\n",
       "      <td>5</td>\n",
       "      <td>0</td>\n",
       "      <td>290</td>\n",
       "      <td>0</td>\n",
       "      <td>4</td>\n",
       "      <td>4</td>\n",
       "      <td>33</td>\n",
       "      <td>6</td>\n",
       "      <td>אבו גוש</td>\n",
       "      <td>6894.604873</td>\n",
       "      <td>-0.761583</td>\n",
       "      <td>3</td>\n",
       "    </tr>\n",
       "    <tr>\n",
       "      <th>2</th>\n",
       "      <td>472</td>\n",
       "      <td>579</td>\n",
       "      <td>332</td>\n",
       "      <td>5</td>\n",
       "      <td>1</td>\n",
       "      <td>217</td>\n",
       "      <td>0</td>\n",
       "      <td>1</td>\n",
       "      <td>30</td>\n",
       "      <td>40</td>\n",
       "      <td>18</td>\n",
       "      <td>אבו גוש</td>\n",
       "      <td>6894.604873</td>\n",
       "      <td>-0.761583</td>\n",
       "      <td>3</td>\n",
       "    </tr>\n",
       "    <tr>\n",
       "      <th>3</th>\n",
       "      <td>472</td>\n",
       "      <td>761</td>\n",
       "      <td>398</td>\n",
       "      <td>5</td>\n",
       "      <td>0</td>\n",
       "      <td>281</td>\n",
       "      <td>1</td>\n",
       "      <td>2</td>\n",
       "      <td>21</td>\n",
       "      <td>55</td>\n",
       "      <td>3</td>\n",
       "      <td>אבו גוש</td>\n",
       "      <td>6894.604873</td>\n",
       "      <td>-0.761583</td>\n",
       "      <td>3</td>\n",
       "    </tr>\n",
       "    <tr>\n",
       "      <th>4</th>\n",
       "      <td>472</td>\n",
       "      <td>541</td>\n",
       "      <td>227</td>\n",
       "      <td>7</td>\n",
       "      <td>1</td>\n",
       "      <td>148</td>\n",
       "      <td>0</td>\n",
       "      <td>0</td>\n",
       "      <td>18</td>\n",
       "      <td>31</td>\n",
       "      <td>3</td>\n",
       "      <td>אבו גוש</td>\n",
       "      <td>6894.604873</td>\n",
       "      <td>-0.761583</td>\n",
       "      <td>3</td>\n",
       "    </tr>\n",
       "    <tr>\n",
       "      <th>...</th>\n",
       "      <td>...</td>\n",
       "      <td>...</td>\n",
       "      <td>...</td>\n",
       "      <td>...</td>\n",
       "      <td>...</td>\n",
       "      <td>...</td>\n",
       "      <td>...</td>\n",
       "      <td>...</td>\n",
       "      <td>...</td>\n",
       "      <td>...</td>\n",
       "      <td>...</td>\n",
       "      <td>...</td>\n",
       "      <td>...</td>\n",
       "      <td>...</td>\n",
       "      <td>...</td>\n",
       "    </tr>\n",
       "    <tr>\n",
       "      <th>10450</th>\n",
       "      <td>3563</td>\n",
       "      <td>739</td>\n",
       "      <td>527</td>\n",
       "      <td>9</td>\n",
       "      <td>11</td>\n",
       "      <td>2</td>\n",
       "      <td>314</td>\n",
       "      <td>15</td>\n",
       "      <td>95</td>\n",
       "      <td>30</td>\n",
       "      <td>6</td>\n",
       "      <td>תקוע</td>\n",
       "      <td>3495.000000</td>\n",
       "      <td>-0.031000</td>\n",
       "      <td>5</td>\n",
       "    </tr>\n",
       "    <tr>\n",
       "      <th>10451</th>\n",
       "      <td>3563</td>\n",
       "      <td>658</td>\n",
       "      <td>458</td>\n",
       "      <td>13</td>\n",
       "      <td>14</td>\n",
       "      <td>1</td>\n",
       "      <td>176</td>\n",
       "      <td>21</td>\n",
       "      <td>166</td>\n",
       "      <td>19</td>\n",
       "      <td>11</td>\n",
       "      <td>תקוע</td>\n",
       "      <td>3495.000000</td>\n",
       "      <td>-0.031000</td>\n",
       "      <td>5</td>\n",
       "    </tr>\n",
       "    <tr>\n",
       "      <th>10452</th>\n",
       "      <td>3563</td>\n",
       "      <td>700</td>\n",
       "      <td>539</td>\n",
       "      <td>9</td>\n",
       "      <td>3</td>\n",
       "      <td>0</td>\n",
       "      <td>308</td>\n",
       "      <td>6</td>\n",
       "      <td>133</td>\n",
       "      <td>25</td>\n",
       "      <td>12</td>\n",
       "      <td>תקוע</td>\n",
       "      <td>3495.000000</td>\n",
       "      <td>-0.031000</td>\n",
       "      <td>5</td>\n",
       "    </tr>\n",
       "    <tr>\n",
       "      <th>10453</th>\n",
       "      <td>1346</td>\n",
       "      <td>574</td>\n",
       "      <td>205</td>\n",
       "      <td>5</td>\n",
       "      <td>1</td>\n",
       "      <td>115</td>\n",
       "      <td>1</td>\n",
       "      <td>0</td>\n",
       "      <td>63</td>\n",
       "      <td>8</td>\n",
       "      <td>2</td>\n",
       "      <td>תרבין א-צאנע (יישוב)</td>\n",
       "      <td>437.000000</td>\n",
       "      <td>-3.103000</td>\n",
       "      <td>1</td>\n",
       "    </tr>\n",
       "    <tr>\n",
       "      <th>10454</th>\n",
       "      <td>778</td>\n",
       "      <td>565</td>\n",
       "      <td>452</td>\n",
       "      <td>17</td>\n",
       "      <td>9</td>\n",
       "      <td>0</td>\n",
       "      <td>85</td>\n",
       "      <td>2</td>\n",
       "      <td>202</td>\n",
       "      <td>35</td>\n",
       "      <td>48</td>\n",
       "      <td>תרום</td>\n",
       "      <td>802.000000</td>\n",
       "      <td>0.447000</td>\n",
       "      <td>6</td>\n",
       "    </tr>\n",
       "  </tbody>\n",
       "</table>\n",
       "<p>10455 rows × 15 columns</p>\n",
       "</div>"
      ],
      "text/plain": [
       "       סמל ישוב  בזב  כשרים  אמת   ג  ודעם   טב   ל  מחל  פה  שס  \\\n",
       "0           472  525    265    8   0   194    0   1    8  25   5   \n",
       "1           472  686    357    5   0   290    0   4    4  33   6   \n",
       "2           472  579    332    5   1   217    0   1   30  40  18   \n",
       "3           472  761    398    5   0   281    1   2   21  55   3   \n",
       "4           472  541    227    7   1   148    0   0   18  31   3   \n",
       "...         ...  ...    ...  ...  ..   ...  ...  ..  ...  ..  ..   \n",
       "10450      3563  739    527    9  11     2  314  15   95  30   6   \n",
       "10451      3563  658    458   13  14     1  176  21  166  19  11   \n",
       "10452      3563  700    539    9   3     0  308   6  133  25  12   \n",
       "10453      1346  574    205    5   1   115    1   0   63   8   2   \n",
       "10454       778  565    452   17   9     0   85   2  202  35  48   \n",
       "\n",
       "                    שם ישוב   population  index_value  eco_level  \n",
       "0                   אבו גוש  6894.604873    -0.761583          3  \n",
       "1                   אבו גוש  6894.604873    -0.761583          3  \n",
       "2                   אבו גוש  6894.604873    -0.761583          3  \n",
       "3                   אבו גוש  6894.604873    -0.761583          3  \n",
       "4                   אבו גוש  6894.604873    -0.761583          3  \n",
       "...                     ...          ...          ...        ...  \n",
       "10450                  תקוע  3495.000000    -0.031000          5  \n",
       "10451                  תקוע  3495.000000    -0.031000          5  \n",
       "10452                  תקוע  3495.000000    -0.031000          5  \n",
       "10453  תרבין א-צאנע (יישוב)   437.000000    -3.103000          1  \n",
       "10454                  תרום   802.000000     0.447000          6  \n",
       "\n",
       "[10455 rows x 15 columns]"
      ]
     },
     "metadata": {},
     "output_type": "display_data"
    }
   ],
   "source": [
    "social_rate =pd.read_excel('eshkol_hevrati_calcali.xlsx', encoding = 'iso-8859-8')\n",
    "votes_per_ballots2  = pd.read_csv(\"votes per ballot 2019b.csv\", encoding = 'iso-8859-8', index_col='סמל ישוב')\n",
    "votes_per_ballots2 = votes_per_ballots2.loc[:,[\"בזב\",\"כשרים\", \"אמת\", \"ג\", \"ודעם\",\n",
    "                             \"טב\", \"ל\", \"מחל\",\"פה\",\"שס\"]]\n",
    "social_rate.rename(columns={'name':'שם ישוב',\"set_code\":\"סמל ישוב\"}, inplace=True)\n",
    "merged = pd.merge(votes_per_ballots2,social_rate ,how='inner', on='סמל ישוב') # mergeing the two data frames\n",
    "display(merged)\n",
    "merged = merged.set_index(\"שם ישוב\")\n",
    "merged = merged.loc[:,[\"מחל\",\"פה\",\"ודעם\",\"שס\",\"ג\",\"אמת\",\"ל\",\"טב\",\"eco_level\"]]"
   ]
  },
  {
   "cell_type": "code",
   "execution_count": null,
   "metadata": {},
   "outputs": [],
   "source": [
    "# a function that choose 10 settelemnts from each one of thr eco levels\n",
    "def random_pic2(df):\n",
    "    pic2 = pd.DataFrame() \n",
    "    for i in range(1,11):\n",
    "        eco=df[df.eco_level==i]\n",
    "        pol = eco.sample(1)\n",
    "        pic2=pic2.append(pol)\n",
    "    return(pic2)\n",
    "\n",
    "# a loop that compute the total number of voters in each eco level\n",
    "big_N = []\n",
    "for i in range(1,11):\n",
    "    eco=merged[merged.eco_level==i].iloc[:,0:8]\n",
    "    eco = eco.sum().sum()\n",
    "    big_N.append(eco)\n",
    "\n",
    "# a function that calculate P_hat for the eco level sample\n",
    "def caleco(df):\n",
    "    df = df.iloc[:,0:8]\n",
    "    yo = df.sum(axis=1)\n",
    "    df = df.div(yo,axis=0)\n",
    "    p_hat_new = df.mul(big_N,axis=0).sum()/sum(big_N)\n",
    "    return(p_hat_new)"
   ]
  },
  {
   "cell_type": "code",
   "execution_count": null,
   "metadata": {},
   "outputs": [],
   "source": [
    "tr = random_pic2(merged)\n",
    "display(tr)"
   ]
  },
  {
   "cell_type": "code",
   "execution_count": null,
   "metadata": {},
   "outputs": [],
   "source": [
    "tr1 =caleco(tr)\n",
    "display(tr1)"
   ]
  },
  {
   "cell_type": "code",
   "execution_count": null,
   "metadata": {},
   "outputs": [],
   "source": [
    "eco_sam = []\n",
    "for i in range(0,100):\n",
    "    sam= caleco(random_pic2(merged))\n",
    "    eco_sam.append(sam)\n",
    "    \n",
    "eco_sam = pd.DataFrame(eco_sam)    "
   ]
  },
  {
   "cell_type": "code",
   "execution_count": null,
   "metadata": {},
   "outputs": [],
   "source": [
    "#compute bias\n",
    "display(print(\"bias is\"),round(eco_sam.mean()-p,3))\n",
    "\n",
    "#compute variance\n",
    "display(print(\"variance is\"),round(eco_sam.var(),3))\n",
    "\n",
    "#compute MSE\n",
    "display(print(\"MSE is\"),round(eco_sam.var() + np.power(eco_sam.mean()-p,2),3))"
   ]
  },
  {
   "cell_type": "code",
   "execution_count": null,
   "metadata": {},
   "outputs": [],
   "source": [
    "fig,ax=plt.subplots()\n",
    "width =0.3\n",
    "ax.bar(np.arange(8)-0.15,p_hats.var() +np.power(p_hats.mean()-p,2),width,label = \"P_hat MSE\")\n",
    "ax.bar(np.arange(8)+0.15,eco_sam.var() + np.power(eco_sam.mean()-p,2),width,label=\"P_hat eshcolot MSE\")\n",
    "ax.legend()\n",
    "ax.set_ylabel(\"MSE\")\n",
    "ax.set_xlabel(\"Party name\")\n",
    "ax.set_title(\"Plot of election estimator MSE\")\n",
    "ax.set_xticks(np.arange(8))\n",
    "ax.set_xticklabels([dict_party[i][::-1] for i in p_hats.columns],rotation=90)\n",
    "plt.show()\n",
    "\n",
    "display(print(\"sum MSE of parties method 1 \"),round(sum(p_hats.var() +np.power(p_hats.mean()-p,2)),3))\n",
    "display(print(\"sum MSE of parties method 2 \"),round(sum(eco_sam.var() +np.power(eco_sam.mean()-p,2)),3))"
   ]
  },
  {
   "cell_type": "markdown",
   "metadata": {},
   "source": [
    "#### Answer:\n",
    "From the comparison of the MSE function for each of the method it is clear that the second method is better(in MSE standard)<br>\n",
    "But why did it happend?, if we take a look of the bias and variance of the second method and compare it to the first method<br> we will see that $$bias_1 < bias_2$$ $$Var_1 > Var_2$$ for most parties and<br>\n",
    "The second method simply used a bias-variance trade off to crate an estimator with lower MSE.<br> "
   ]
  },
  {
   "cell_type": "markdown",
   "metadata": {},
   "source": [
    "#### Question 3 artical a"
   ]
  },
  {
   "cell_type": "code",
   "execution_count": null,
   "metadata": {},
   "outputs": [],
   "source": [
    "q = votes_per_ballots2.loc[:,[\"מחל\",\"פה\",\"ודעם\",\"שס\",\"ג\",\"אמת\",\"ל\",\"טב\"]].sum().div(votes_per_ballots2.loc[:,[\"מחל\",\"פה\",\"ודעם\",\"שס\",\"ג\",\"אמת\",\"ל\",\"טב\"]].sum().sum())\n",
    "ran = np.arange(0,1.0,0.01)\n",
    "# for loops that compute the variance' bias and MSE for each alpha\n",
    "alpha = []\n",
    "for a in ran:\n",
    "    alpha.append(a*p_hats.mean() +(1-a)*q)\n",
    "    \n",
    "alpha = pd.DataFrame(alpha)\n",
    "\n",
    "var_alpha = []\n",
    "for a in ran:\n",
    "    var_alpha.append(pow(a,2)*p_hats.var())\n",
    "    \n",
    "var_alpha = pd.DataFrame(var_alpha)\n",
    "\n",
    "bias2_alpha = []\n",
    "for a in ran:\n",
    "    bias2_alpha.append(pow((1-a),2)*pow((q-p),2))\n",
    " \n"
   ]
  },
  {
   "cell_type": "code",
   "execution_count": null,
   "metadata": {},
   "outputs": [],
   "source": [
    "bias2_alpha = pd.DataFrame(bias2_alpha) \n",
    "\n",
    "MSE_alpha = var_alpha + bias2_alpha"
   ]
  },
  {
   "cell_type": "code",
   "execution_count": null,
   "metadata": {},
   "outputs": [],
   "source": [
    "var_alpha"
   ]
  },
  {
   "cell_type": "code",
   "execution_count": null,
   "metadata": {},
   "outputs": [],
   "source": [
    "bias2_alpha"
   ]
  },
  {
   "cell_type": "code",
   "execution_count": null,
   "metadata": {},
   "outputs": [],
   "source": [
    "MSE_alpha"
   ]
  },
  {
   "cell_type": "code",
   "execution_count": null,
   "metadata": {},
   "outputs": [],
   "source": [
    "fig,ax = plt.subplots(2,4,figsize=(18,10))\n",
    "plt.subplots_adjust(hspace =1,wspace =1)\n",
    "for i in range(0,2):\n",
    "    for j in range(0,4):\n",
    "        if i==0:\n",
    "            ax[i,j].plot(var_alpha.iloc[:,j],label = \"Variance\")\n",
    "            ax[i,j].plot(bias2_alpha.iloc[:,j],label =\"bias^2\")\n",
    "            ax[i,j].plot(MSE_alpha.iloc[:,j],label =\"MSE\" )\n",
    "            ax[i,j].set_xticklabels([0,0,0.5,1])\n",
    "            ax[i,j].set_xlabel('Alpha')\n",
    "            ax[i,j].legend()\n",
    "            ax[i,j].set_title(\"Variance,bias^2 and MSE for \"\"\\n\"+dict_party[var_alpha.columns[j]][::-1])\n",
    "        else:\n",
    "            ax[i,j].plot(var_alpha.iloc[:,j+4],label = \"Variance\")\n",
    "            ax[i,j].plot(bias2_alpha.iloc[:,j+4],label =\"bias^2\")\n",
    "            ax[i,j].plot(MSE_alpha.iloc[:,j+4],label =\"MSE\")\n",
    "            ax[i,j].set_xticklabels([0,0,0.5,1])\n",
    "            ax[i,j].set_xlabel('Alpha')\n",
    "            ax[i,j].legend()\n",
    "            ax[i,j].set_title(\"Variance,bias^2 and MSE for \"\"\\n\"+dict_party[var_alpha.columns[j+4]][::-1])\n",
    "plt.show()            "
   ]
  },
  {
   "cell_type": "markdown",
   "metadata": {},
   "source": [
    "#### Answer:\n",
    "because $q_j$ is the 2019b election resolts and very close to $p_j$(the election resolts in 2020) in most parties when<br> $\\alpha = 0$ we left with an unbiased estimator to the election that is not random and very close to zero.<br>\n",
    "(it is possibole so see in parties like the \"joint list\", \"blue&white\" and \"shas\")<br>\n",
    "As for the chose of $\\alpha = 0.5 $ or $\\alpha = 1$ it is clear from the plot that the chose of $\\alpha = 1$ will maximaize<br>\n",
    "the MSE for all the parites.\n",
    "Unlike the chose of $\\alpha = 0.5 $ which according to the plots will guarantee to reduce the MSE.<br>\n",
    "(note that this can also be inferred from the fact that MSE is a parabola with a minimum point so a move from a \"higher\"<br> point to a point that closer to the minimun will guarantee to reduce in the \"y\" values)."
   ]
  },
  {
   "cell_type": "markdown",
   "metadata": {},
   "source": [
    "#### Question 3 artical b"
   ]
  },
  {
   "cell_type": "markdown",
   "metadata": {},
   "source": [
    "First we will find the derivative of the MSE<br>\n",
    "$$ MSE(\\hat{P_{j}})=\\alpha^2_{j}\\sigma^2_{j} + bias^2(\\hat{P_{j}},P_{j})$$\n",
    "$$ MSE(\\hat{P_{j}})=\\alpha^2_{j}\\sigma^2_{j} + ((1-\\alpha_{j})(Q_{j}-P_{j}))^2$$\n",
    "$$ \\frac{d}{d\\alpha_{j}}MSE(\\hat{P_{j}})=2\\alpha_{j}\\sigma^2_{j} -2((1-\\alpha_{j})({Q_{j}}-P_{j})^2$$<br>\n",
    "Now set the derivative to zero and solve for $\\alpha_{j}$<br>\n",
    "$$2\\alpha_{j}\\sigma^2_{j} -2((1-\\alpha_{j})(Q_{j}-P_{j})^2=0$$\n",
    "$$\\alpha_{j}\\sigma^2_{j}- (Q_{j}-P_{j})^2 +\\alpha_{j}(Q_{j}-P_{j})^2=0$$\n",
    "$$ \\alpha_{j}(\\sigma^2_{j} + (Q_{j}-P_{j})^2 = (Q_{j}-P_{j})^2$$\n",
    "$$ \\alpha_{j} = \\frac{(Q_{j}-P_{j})^2}{\\sigma^2_{j} + (Q_{j}-P_{j})^2}$$"
   ]
  },
  {
   "cell_type": "code",
   "execution_count": null,
   "metadata": {},
   "outputs": [],
   "source": [
    "# computing the alpha vector\n",
    "alpha_vec = pow((q-p),2).div(pow((q-p),2) + p_hats.var())\n",
    "alpha_vec\n",
    "# the same plots from artical a but this time with the argmin\n",
    "fig,ax = plt.subplots(2,4,figsize=(18,10))\n",
    "plt.subplots_adjust(hspace =1,wspace =1)\n",
    "for i in range(0,2):\n",
    "    for j in range(0,4):\n",
    "        if i==0:\n",
    "            ax[i,j].plot(var_alpha.iloc[:,j],label = \"Variance\")\n",
    "            ax[i,j].plot(bias2_alpha.iloc[:,j],label =\"bias^2\")\n",
    "            ax[i,j].plot(MSE_alpha.iloc[:,j],label =\"MSE\" )\n",
    "            ax[i,j].scatter(alpha_vec[j]*100,MSE_alpha.iloc[int(round(alpha_vec[j]*100)),j],color=\"red\",label=\"min MSE\")\n",
    "            ax[i,j].set_xticklabels([0,0,0.5,1])\n",
    "            ax[i,j].set_xlabel('Alpha')\n",
    "            ax[i,j].legend()\n",
    "            ax[i,j].set_title(\"Variance,bias^2 and MSE for \"\"\\n\"+dict_party[var_alpha.columns[j]][::-1])\n",
    "        else:\n",
    "            ax[i,j].plot(var_alpha.iloc[:,j+4],label = \"Variance\")\n",
    "            ax[i,j].plot(bias2_alpha.iloc[:,j+4],label =\"bias^2\")\n",
    "            ax[i,j].plot(MSE_alpha.iloc[:,j+4],label =\"MSE\")\n",
    "            ax[i,j].scatter(alpha_vec[j+4]*100,MSE_alpha.iloc[int(round(alpha_vec[j+4]*100)),j+4],color=\"red\",label=\"min MSE\")\n",
    "            ax[i,j].set_xticklabels([0,0,0.5,1])\n",
    "            ax[i,j].set_xlabel('Alpha')\n",
    "            ax[i,j].legend()\n",
    "            ax[i,j].set_title(\"Variance,bias^2 and MSE for \"\"\\n\"+dict_party[var_alpha.columns[j+4]][::-1])\n",
    "plt.show()            \n"
   ]
  },
  {
   "cell_type": "code",
   "execution_count": null,
   "metadata": {},
   "outputs": [],
   "source": [
    "# to show that the points in the plots are minimun we will compre the our minimum with the built in \n",
    "# minumum function\n",
    "min_vec = [MSE_alpha.iloc[int(round(alpha_vec[j]*100)),j] for j in  range(0,8)]\n",
    "min_vec"
   ]
  },
  {
   "cell_type": "code",
   "execution_count": null,
   "metadata": {},
   "outputs": [],
   "source": [
    "# a function that show the minimum MSE for each party and show it in a vector\n",
    "def show_min(df):\n",
    "    vec= []\n",
    "    for i in range(len(df.T)):\n",
    "        vec.append(min(MSE_alpha.iloc[:,i])) # use python mim\n",
    "    return(vec)    "
   ]
  },
  {
   "cell_type": "code",
   "execution_count": null,
   "metadata": {},
   "outputs": [],
   "source": [
    "gg=show_min(MSE_alpha) # same vector\n",
    "display(gg)\n",
    "gg==min_vec"
   ]
  },
  {
   "cell_type": "markdown",
   "metadata": {},
   "source": [
    "can we use this formula in advanced To determine the estimation?\n",
    "the answer is yes.<br>\n",
    "the reason is that if the estimator $\\hat{P}$ unbiased, it is easy to find the derivative of the MSE and solve it for<br> MSE'=0<br>\n",
    "and due to the fect that MSE is a \"smiling\" parabola the solution is the arg min of the MSE function.\n"
   ]
  }
 ],
 "metadata": {
  "kernelspec": {
   "display_name": "Python 3",
   "language": "python",
   "name": "python3"
  },
  "language_info": {
   "codemirror_mode": {
    "name": "ipython",
    "version": 3
   },
   "file_extension": ".py",
   "mimetype": "text/x-python",
   "name": "python",
   "nbconvert_exporter": "python",
   "pygments_lexer": "ipython3",
   "version": "3.8.3"
  }
 },
 "nbformat": 4,
 "nbformat_minor": 4
}
